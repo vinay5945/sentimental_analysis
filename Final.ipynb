{
 "cells": [
  {
   "cell_type": "markdown",
   "id": "db7e7c8f",
   "metadata": {},
   "source": [
    "# Sentiment analysis on amazon food reviews"
   ]
  },
  {
   "cell_type": "markdown",
   "id": "847cdc70",
   "metadata": {},
   "source": [
    "importing libraries"
   ]
  },
  {
   "cell_type": "code",
   "execution_count": 63,
   "id": "7db963a8",
   "metadata": {},
   "outputs": [],
   "source": [
    "import pandas as pd\n",
    "import numpy as np\n",
    "import matplotlib.pyplot as plt\n",
    "plt.style.use('ggplot')"
   ]
  },
  {
   "cell_type": "code",
   "execution_count": 64,
   "id": "18197968",
   "metadata": {},
   "outputs": [],
   "source": [
    "# Loading the dataset\n",
    "df = pd.read_csv(\"Reviews.csv\")"
   ]
  },
  {
   "cell_type": "code",
   "execution_count": 65,
   "id": "56d1a572",
   "metadata": {},
   "outputs": [
    {
     "data": {
      "text/plain": [
       "(568454, 10)"
      ]
     },
     "execution_count": 65,
     "metadata": {},
     "output_type": "execute_result"
    }
   ],
   "source": [
    "df.shape"
   ]
  },
  {
   "cell_type": "code",
   "execution_count": 66,
   "id": "70dde399",
   "metadata": {},
   "outputs": [
    {
     "data": {
      "text/html": [
       "<div>\n",
       "<style scoped>\n",
       "    .dataframe tbody tr th:only-of-type {\n",
       "        vertical-align: middle;\n",
       "    }\n",
       "\n",
       "    .dataframe tbody tr th {\n",
       "        vertical-align: top;\n",
       "    }\n",
       "\n",
       "    .dataframe thead th {\n",
       "        text-align: right;\n",
       "    }\n",
       "</style>\n",
       "<table border=\"1\" class=\"dataframe\">\n",
       "  <thead>\n",
       "    <tr style=\"text-align: right;\">\n",
       "      <th></th>\n",
       "      <th>Id</th>\n",
       "      <th>ProductId</th>\n",
       "      <th>UserId</th>\n",
       "      <th>ProfileName</th>\n",
       "      <th>HelpfulnessNumerator</th>\n",
       "      <th>HelpfulnessDenominator</th>\n",
       "      <th>Score</th>\n",
       "      <th>Time</th>\n",
       "      <th>Summary</th>\n",
       "      <th>Text</th>\n",
       "    </tr>\n",
       "  </thead>\n",
       "  <tbody>\n",
       "    <tr>\n",
       "      <th>0</th>\n",
       "      <td>1</td>\n",
       "      <td>B001E4KFG0</td>\n",
       "      <td>A3SGXH7AUHU8GW</td>\n",
       "      <td>delmartian</td>\n",
       "      <td>1</td>\n",
       "      <td>1</td>\n",
       "      <td>5</td>\n",
       "      <td>1303862400</td>\n",
       "      <td>Good Quality Dog Food</td>\n",
       "      <td>I have bought several of the Vitality canned d...</td>\n",
       "    </tr>\n",
       "    <tr>\n",
       "      <th>1</th>\n",
       "      <td>2</td>\n",
       "      <td>B00813GRG4</td>\n",
       "      <td>A1D87F6ZCVE5NK</td>\n",
       "      <td>dll pa</td>\n",
       "      <td>0</td>\n",
       "      <td>0</td>\n",
       "      <td>1</td>\n",
       "      <td>1346976000</td>\n",
       "      <td>Not as Advertised</td>\n",
       "      <td>Product arrived labeled as Jumbo Salted Peanut...</td>\n",
       "    </tr>\n",
       "    <tr>\n",
       "      <th>2</th>\n",
       "      <td>3</td>\n",
       "      <td>B000LQOCH0</td>\n",
       "      <td>ABXLMWJIXXAIN</td>\n",
       "      <td>Natalia Corres \"Natalia Corres\"</td>\n",
       "      <td>1</td>\n",
       "      <td>1</td>\n",
       "      <td>4</td>\n",
       "      <td>1219017600</td>\n",
       "      <td>\"Delight\" says it all</td>\n",
       "      <td>This is a confection that has been around a fe...</td>\n",
       "    </tr>\n",
       "    <tr>\n",
       "      <th>3</th>\n",
       "      <td>4</td>\n",
       "      <td>B000UA0QIQ</td>\n",
       "      <td>A395BORC6FGVXV</td>\n",
       "      <td>Karl</td>\n",
       "      <td>3</td>\n",
       "      <td>3</td>\n",
       "      <td>2</td>\n",
       "      <td>1307923200</td>\n",
       "      <td>Cough Medicine</td>\n",
       "      <td>If you are looking for the secret ingredient i...</td>\n",
       "    </tr>\n",
       "    <tr>\n",
       "      <th>4</th>\n",
       "      <td>5</td>\n",
       "      <td>B006K2ZZ7K</td>\n",
       "      <td>A1UQRSCLF8GW1T</td>\n",
       "      <td>Michael D. Bigham \"M. Wassir\"</td>\n",
       "      <td>0</td>\n",
       "      <td>0</td>\n",
       "      <td>5</td>\n",
       "      <td>1350777600</td>\n",
       "      <td>Great taffy</td>\n",
       "      <td>Great taffy at a great price.  There was a wid...</td>\n",
       "    </tr>\n",
       "  </tbody>\n",
       "</table>\n",
       "</div>"
      ],
      "text/plain": [
       "   Id   ProductId          UserId                      ProfileName  \\\n",
       "0   1  B001E4KFG0  A3SGXH7AUHU8GW                       delmartian   \n",
       "1   2  B00813GRG4  A1D87F6ZCVE5NK                           dll pa   \n",
       "2   3  B000LQOCH0   ABXLMWJIXXAIN  Natalia Corres \"Natalia Corres\"   \n",
       "3   4  B000UA0QIQ  A395BORC6FGVXV                             Karl   \n",
       "4   5  B006K2ZZ7K  A1UQRSCLF8GW1T    Michael D. Bigham \"M. Wassir\"   \n",
       "\n",
       "   HelpfulnessNumerator  HelpfulnessDenominator  Score        Time  \\\n",
       "0                     1                       1      5  1303862400   \n",
       "1                     0                       0      1  1346976000   \n",
       "2                     1                       1      4  1219017600   \n",
       "3                     3                       3      2  1307923200   \n",
       "4                     0                       0      5  1350777600   \n",
       "\n",
       "                 Summary                                               Text  \n",
       "0  Good Quality Dog Food  I have bought several of the Vitality canned d...  \n",
       "1      Not as Advertised  Product arrived labeled as Jumbo Salted Peanut...  \n",
       "2  \"Delight\" says it all  This is a confection that has been around a fe...  \n",
       "3         Cough Medicine  If you are looking for the secret ingredient i...  \n",
       "4            Great taffy  Great taffy at a great price.  There was a wid...  "
      ]
     },
     "execution_count": 66,
     "metadata": {},
     "output_type": "execute_result"
    }
   ],
   "source": [
    "df.head()"
   ]
  },
  {
   "cell_type": "code",
   "execution_count": 67,
   "id": "2e11db67",
   "metadata": {},
   "outputs": [
    {
     "data": {
      "text/html": [
       "<div>\n",
       "<style scoped>\n",
       "    .dataframe tbody tr th:only-of-type {\n",
       "        vertical-align: middle;\n",
       "    }\n",
       "\n",
       "    .dataframe tbody tr th {\n",
       "        vertical-align: top;\n",
       "    }\n",
       "\n",
       "    .dataframe thead th {\n",
       "        text-align: right;\n",
       "    }\n",
       "</style>\n",
       "<table border=\"1\" class=\"dataframe\">\n",
       "  <thead>\n",
       "    <tr style=\"text-align: right;\">\n",
       "      <th></th>\n",
       "      <th>Id</th>\n",
       "      <th>ProductId</th>\n",
       "      <th>UserId</th>\n",
       "      <th>ProfileName</th>\n",
       "      <th>HelpfulnessNumerator</th>\n",
       "      <th>HelpfulnessDenominator</th>\n",
       "      <th>Score</th>\n",
       "      <th>Time</th>\n",
       "      <th>Summary</th>\n",
       "      <th>Review</th>\n",
       "    </tr>\n",
       "  </thead>\n",
       "  <tbody>\n",
       "    <tr>\n",
       "      <th>0</th>\n",
       "      <td>1</td>\n",
       "      <td>B001E4KFG0</td>\n",
       "      <td>A3SGXH7AUHU8GW</td>\n",
       "      <td>delmartian</td>\n",
       "      <td>1</td>\n",
       "      <td>1</td>\n",
       "      <td>5</td>\n",
       "      <td>1303862400</td>\n",
       "      <td>Good Quality Dog Food</td>\n",
       "      <td>I have bought several of the Vitality canned d...</td>\n",
       "    </tr>\n",
       "    <tr>\n",
       "      <th>1</th>\n",
       "      <td>2</td>\n",
       "      <td>B00813GRG4</td>\n",
       "      <td>A1D87F6ZCVE5NK</td>\n",
       "      <td>dll pa</td>\n",
       "      <td>0</td>\n",
       "      <td>0</td>\n",
       "      <td>1</td>\n",
       "      <td>1346976000</td>\n",
       "      <td>Not as Advertised</td>\n",
       "      <td>Product arrived labeled as Jumbo Salted Peanut...</td>\n",
       "    </tr>\n",
       "    <tr>\n",
       "      <th>2</th>\n",
       "      <td>3</td>\n",
       "      <td>B000LQOCH0</td>\n",
       "      <td>ABXLMWJIXXAIN</td>\n",
       "      <td>Natalia Corres \"Natalia Corres\"</td>\n",
       "      <td>1</td>\n",
       "      <td>1</td>\n",
       "      <td>4</td>\n",
       "      <td>1219017600</td>\n",
       "      <td>\"Delight\" says it all</td>\n",
       "      <td>This is a confection that has been around a fe...</td>\n",
       "    </tr>\n",
       "    <tr>\n",
       "      <th>3</th>\n",
       "      <td>4</td>\n",
       "      <td>B000UA0QIQ</td>\n",
       "      <td>A395BORC6FGVXV</td>\n",
       "      <td>Karl</td>\n",
       "      <td>3</td>\n",
       "      <td>3</td>\n",
       "      <td>2</td>\n",
       "      <td>1307923200</td>\n",
       "      <td>Cough Medicine</td>\n",
       "      <td>If you are looking for the secret ingredient i...</td>\n",
       "    </tr>\n",
       "    <tr>\n",
       "      <th>4</th>\n",
       "      <td>5</td>\n",
       "      <td>B006K2ZZ7K</td>\n",
       "      <td>A1UQRSCLF8GW1T</td>\n",
       "      <td>Michael D. Bigham \"M. Wassir\"</td>\n",
       "      <td>0</td>\n",
       "      <td>0</td>\n",
       "      <td>5</td>\n",
       "      <td>1350777600</td>\n",
       "      <td>Great taffy</td>\n",
       "      <td>Great taffy at a great price.  There was a wid...</td>\n",
       "    </tr>\n",
       "  </tbody>\n",
       "</table>\n",
       "</div>"
      ],
      "text/plain": [
       "   Id   ProductId          UserId                      ProfileName  \\\n",
       "0   1  B001E4KFG0  A3SGXH7AUHU8GW                       delmartian   \n",
       "1   2  B00813GRG4  A1D87F6ZCVE5NK                           dll pa   \n",
       "2   3  B000LQOCH0   ABXLMWJIXXAIN  Natalia Corres \"Natalia Corres\"   \n",
       "3   4  B000UA0QIQ  A395BORC6FGVXV                             Karl   \n",
       "4   5  B006K2ZZ7K  A1UQRSCLF8GW1T    Michael D. Bigham \"M. Wassir\"   \n",
       "\n",
       "   HelpfulnessNumerator  HelpfulnessDenominator  Score        Time  \\\n",
       "0                     1                       1      5  1303862400   \n",
       "1                     0                       0      1  1346976000   \n",
       "2                     1                       1      4  1219017600   \n",
       "3                     3                       3      2  1307923200   \n",
       "4                     0                       0      5  1350777600   \n",
       "\n",
       "                 Summary                                             Review  \n",
       "0  Good Quality Dog Food  I have bought several of the Vitality canned d...  \n",
       "1      Not as Advertised  Product arrived labeled as Jumbo Salted Peanut...  \n",
       "2  \"Delight\" says it all  This is a confection that has been around a fe...  \n",
       "3         Cough Medicine  If you are looking for the secret ingredient i...  \n",
       "4            Great taffy  Great taffy at a great price.  There was a wid...  "
      ]
     },
     "execution_count": 67,
     "metadata": {},
     "output_type": "execute_result"
    }
   ],
   "source": [
    "# Renaming the score column to Rating and text column to review\n",
    "df.rename(columns={\"Text\":\"Review\"},inplace=True)\n",
    "df.head()"
   ]
  },
  {
   "cell_type": "code",
   "execution_count": 68,
   "id": "54e429f5",
   "metadata": {},
   "outputs": [
    {
     "data": {
      "text/plain": [
       "5    363122\n",
       "4     80655\n",
       "1     52268\n",
       "3     42640\n",
       "2     29769\n",
       "Name: Score, dtype: int64"
      ]
     },
     "execution_count": 68,
     "metadata": {},
     "output_type": "execute_result"
    }
   ],
   "source": [
    "# unique ratings\n",
    "df[\"Score\"].value_counts()"
   ]
  },
  {
   "cell_type": "code",
   "execution_count": 69,
   "id": "8cb205ed",
   "metadata": {},
   "outputs": [
    {
     "data": {
      "image/png": "[encoded data removed]",
      "text/plain": [
       "<Figure size 720x360 with 1 Axes>"
      ]
     },
     "metadata": {},
     "output_type": "display_data"
    }
   ],
   "source": [
    "ax = df['Score'].value_counts().sort_index().plot(\n",
    "         kind='bar',\n",
    "         title=\"Count of Reviews by Rating\",\n",
    "         figsize=(10,5))\n",
    "ax.set_xlabel(\"Review stars\")\n",
    "ax.set_ylabel(\"Counts\")\n",
    "# ax.set_ylabel=(\"Count\")\n",
    "plt.show()"
   ]
  },
  {
   "cell_type": "markdown",
   "id": "0092776b",
   "metadata": {},
   "source": [
    "since the above dataset is not balanced.so,we are going to take balanced dataset from df containing 1000 reviews of each Rating"
   ]
  },
  {
   "cell_type": "code",
   "execution_count": 70,
   "id": "60ae4f28",
   "metadata": {},
   "outputs": [
    {
     "data": {
      "text/plain": [
       "array([5, 1, 4, 2, 3], dtype=int64)"
      ]
     },
     "execution_count": 70,
     "metadata": {},
     "output_type": "execute_result"
    }
   ],
   "source": [
    "rating_denominations = df['Score'].unique()\n",
    "rating_denominations"
   ]
  },
  {
   "cell_type": "code",
   "execution_count": 71,
   "id": "e4891d76",
   "metadata": {},
   "outputs": [
    {
     "data": {
      "text/html": [
       "<div>\n",
       "<style scoped>\n",
       "    .dataframe tbody tr th:only-of-type {\n",
       "        vertical-align: middle;\n",
       "    }\n",
       "\n",
       "    .dataframe tbody tr th {\n",
       "        vertical-align: top;\n",
       "    }\n",
       "\n",
       "    .dataframe thead th {\n",
       "        text-align: right;\n",
       "    }\n",
       "</style>\n",
       "<table border=\"1\" class=\"dataframe\">\n",
       "  <thead>\n",
       "    <tr style=\"text-align: right;\">\n",
       "      <th></th>\n",
       "      <th>Id</th>\n",
       "      <th>ProductId</th>\n",
       "      <th>UserId</th>\n",
       "      <th>ProfileName</th>\n",
       "      <th>HelpfulnessNumerator</th>\n",
       "      <th>HelpfulnessDenominator</th>\n",
       "      <th>Score</th>\n",
       "      <th>Time</th>\n",
       "      <th>Summary</th>\n",
       "      <th>Review</th>\n",
       "    </tr>\n",
       "  </thead>\n",
       "  <tbody>\n",
       "    <tr>\n",
       "      <th>0</th>\n",
       "      <td>1</td>\n",
       "      <td>B001E4KFG0</td>\n",
       "      <td>A3SGXH7AUHU8GW</td>\n",
       "      <td>delmartian</td>\n",
       "      <td>1</td>\n",
       "      <td>1</td>\n",
       "      <td>5</td>\n",
       "      <td>1303862400</td>\n",
       "      <td>Good Quality Dog Food</td>\n",
       "      <td>I have bought several of the Vitality canned d...</td>\n",
       "    </tr>\n",
       "    <tr>\n",
       "      <th>1</th>\n",
       "      <td>5</td>\n",
       "      <td>B006K2ZZ7K</td>\n",
       "      <td>A1UQRSCLF8GW1T</td>\n",
       "      <td>Michael D. Bigham \"M. Wassir\"</td>\n",
       "      <td>0</td>\n",
       "      <td>0</td>\n",
       "      <td>5</td>\n",
       "      <td>1350777600</td>\n",
       "      <td>Great taffy</td>\n",
       "      <td>Great taffy at a great price.  There was a wid...</td>\n",
       "    </tr>\n",
       "    <tr>\n",
       "      <th>2</th>\n",
       "      <td>7</td>\n",
       "      <td>B006K2ZZ7K</td>\n",
       "      <td>A1SP2KVKFXXRU1</td>\n",
       "      <td>David C. Sullivan</td>\n",
       "      <td>0</td>\n",
       "      <td>0</td>\n",
       "      <td>5</td>\n",
       "      <td>1340150400</td>\n",
       "      <td>Great!  Just as good as the expensive brands!</td>\n",
       "      <td>This saltwater taffy had great flavors and was...</td>\n",
       "    </tr>\n",
       "    <tr>\n",
       "      <th>3</th>\n",
       "      <td>8</td>\n",
       "      <td>B006K2ZZ7K</td>\n",
       "      <td>A3JRGQVEQN31IQ</td>\n",
       "      <td>Pamela G. Williams</td>\n",
       "      <td>0</td>\n",
       "      <td>0</td>\n",
       "      <td>5</td>\n",
       "      <td>1336003200</td>\n",
       "      <td>Wonderful, tasty taffy</td>\n",
       "      <td>This taffy is so good.  It is very soft and ch...</td>\n",
       "    </tr>\n",
       "    <tr>\n",
       "      <th>4</th>\n",
       "      <td>9</td>\n",
       "      <td>B000E7L2R4</td>\n",
       "      <td>A1MZYO9TZK0BBI</td>\n",
       "      <td>R. James</td>\n",
       "      <td>1</td>\n",
       "      <td>1</td>\n",
       "      <td>5</td>\n",
       "      <td>1322006400</td>\n",
       "      <td>Yay Barley</td>\n",
       "      <td>Right now I'm mostly just sprouting this so my...</td>\n",
       "    </tr>\n",
       "  </tbody>\n",
       "</table>\n",
       "</div>"
      ],
      "text/plain": [
       "   Id   ProductId          UserId                    ProfileName  \\\n",
       "0   1  B001E4KFG0  A3SGXH7AUHU8GW                     delmartian   \n",
       "1   5  B006K2ZZ7K  A1UQRSCLF8GW1T  Michael D. Bigham \"M. Wassir\"   \n",
       "2   7  B006K2ZZ7K  A1SP2KVKFXXRU1              David C. Sullivan   \n",
       "3   8  B006K2ZZ7K  A3JRGQVEQN31IQ             Pamela G. Williams   \n",
       "4   9  B000E7L2R4  A1MZYO9TZK0BBI                       R. James   \n",
       "\n",
       "   HelpfulnessNumerator  HelpfulnessDenominator  Score        Time  \\\n",
       "0                     1                       1      5  1303862400   \n",
       "1                     0                       0      5  1350777600   \n",
       "2                     0                       0      5  1340150400   \n",
       "3                     0                       0      5  1336003200   \n",
       "4                     1                       1      5  1322006400   \n",
       "\n",
       "                                         Summary  \\\n",
       "0                          Good Quality Dog Food   \n",
       "1                                    Great taffy   \n",
       "2  Great!  Just as good as the expensive brands!   \n",
       "3                         Wonderful, tasty taffy   \n",
       "4                                     Yay Barley   \n",
       "\n",
       "                                              Review  \n",
       "0  I have bought several of the Vitality canned d...  \n",
       "1  Great taffy at a great price.  There was a wid...  \n",
       "2  This saltwater taffy had great flavors and was...  \n",
       "3  This taffy is so good.  It is very soft and ch...  \n",
       "4  Right now I'm mostly just sprouting this so my...  "
      ]
     },
     "execution_count": 71,
     "metadata": {},
     "output_type": "execute_result"
    }
   ],
   "source": [
    "dataset = []\n",
    "for denomination in rating_denominations:\n",
    "    filtered_data = df[df['Score'] == denomination]\n",
    "    data = filtered_data[:2500]\n",
    "    dataset.extend(data.values.tolist())\n",
    "#     if len(dataset) >= 1000:\n",
    "#         break\n",
    "        \n",
    "dataset = pd.DataFrame(dataset,columns = df.columns)\n",
    "dataset.head()"
   ]
  },
  {
   "cell_type": "code",
   "execution_count": 72,
   "id": "f7fd607e",
   "metadata": {},
   "outputs": [
    {
     "data": {
      "text/plain": [
       "(12500, 10)"
      ]
     },
     "execution_count": 72,
     "metadata": {},
     "output_type": "execute_result"
    }
   ],
   "source": [
    "dataset.shape"
   ]
  },
  {
   "cell_type": "code",
   "execution_count": 73,
   "id": "263cd67f",
   "metadata": {},
   "outputs": [],
   "source": [
    "dataset = dataset[dataset[\"Score\"]!=3]"
   ]
  },
  {
   "cell_type": "code",
   "execution_count": 74,
   "id": "b66176db",
   "metadata": {},
   "outputs": [
    {
     "data": {
      "text/plain": [
       "5    2500\n",
       "1    2500\n",
       "4    2500\n",
       "2    2500\n",
       "Name: Score, dtype: int64"
      ]
     },
     "execution_count": 74,
     "metadata": {},
     "output_type": "execute_result"
    }
   ],
   "source": [
    "dataset[\"Score\"].value_counts()"
   ]
  },
  {
   "cell_type": "code",
   "execution_count": 75,
   "id": "34c2beb3",
   "metadata": {},
   "outputs": [
    {
     "data": {
      "image/png": "[encoded data removed]",
      "text/plain": [
       "<Figure size 720x360 with 1 Axes>"
      ]
     },
     "metadata": {},
     "output_type": "display_data"
    }
   ],
   "source": [
    "bx = dataset['Score'].value_counts().sort_index().plot(\n",
    "         kind='bar',\n",
    "         title=\"Count of Reviews by Rating\",\n",
    "         figsize=(10,5))\n",
    "bx.set_xlabel(\"Review stars\")\n",
    "bx.set_ylabel(\"Counts\")\n",
    "# ax.set_ylabel=(\"Count\")\n",
    "plt.show()"
   ]
  },
  {
   "cell_type": "code",
   "execution_count": 76,
   "id": "b1d1fd53",
   "metadata": {},
   "outputs": [],
   "source": [
    "dataset[\"Rating\"] = np.where(dataset[\"Score\"] > 3, 1, 0)"
   ]
  },
  {
   "cell_type": "code",
   "execution_count": 77,
   "id": "99a0d7d3",
   "metadata": {},
   "outputs": [
    {
     "data": {
      "text/html": [
       "<div>\n",
       "<style scoped>\n",
       "    .dataframe tbody tr th:only-of-type {\n",
       "        vertical-align: middle;\n",
       "    }\n",
       "\n",
       "    .dataframe tbody tr th {\n",
       "        vertical-align: top;\n",
       "    }\n",
       "\n",
       "    .dataframe thead th {\n",
       "        text-align: right;\n",
       "    }\n",
       "</style>\n",
       "<table border=\"1\" class=\"dataframe\">\n",
       "  <thead>\n",
       "    <tr style=\"text-align: right;\">\n",
       "      <th></th>\n",
       "      <th>Id</th>\n",
       "      <th>ProductId</th>\n",
       "      <th>UserId</th>\n",
       "      <th>ProfileName</th>\n",
       "      <th>HelpfulnessNumerator</th>\n",
       "      <th>HelpfulnessDenominator</th>\n",
       "      <th>Score</th>\n",
       "      <th>Time</th>\n",
       "      <th>Summary</th>\n",
       "      <th>Review</th>\n",
       "      <th>Rating</th>\n",
       "    </tr>\n",
       "  </thead>\n",
       "  <tbody>\n",
       "    <tr>\n",
       "      <th>0</th>\n",
       "      <td>1</td>\n",
       "      <td>B001E4KFG0</td>\n",
       "      <td>A3SGXH7AUHU8GW</td>\n",
       "      <td>delmartian</td>\n",
       "      <td>1</td>\n",
       "      <td>1</td>\n",
       "      <td>5</td>\n",
       "      <td>1303862400</td>\n",
       "      <td>Good Quality Dog Food</td>\n",
       "      <td>I have bought several of the Vitality canned d...</td>\n",
       "      <td>1</td>\n",
       "    </tr>\n",
       "    <tr>\n",
       "      <th>1</th>\n",
       "      <td>5</td>\n",
       "      <td>B006K2ZZ7K</td>\n",
       "      <td>A1UQRSCLF8GW1T</td>\n",
       "      <td>Michael D. Bigham \"M. Wassir\"</td>\n",
       "      <td>0</td>\n",
       "      <td>0</td>\n",
       "      <td>5</td>\n",
       "      <td>1350777600</td>\n",
       "      <td>Great taffy</td>\n",
       "      <td>Great taffy at a great price.  There was a wid...</td>\n",
       "      <td>1</td>\n",
       "    </tr>\n",
       "    <tr>\n",
       "      <th>2</th>\n",
       "      <td>7</td>\n",
       "      <td>B006K2ZZ7K</td>\n",
       "      <td>A1SP2KVKFXXRU1</td>\n",
       "      <td>David C. Sullivan</td>\n",
       "      <td>0</td>\n",
       "      <td>0</td>\n",
       "      <td>5</td>\n",
       "      <td>1340150400</td>\n",
       "      <td>Great!  Just as good as the expensive brands!</td>\n",
       "      <td>This saltwater taffy had great flavors and was...</td>\n",
       "      <td>1</td>\n",
       "    </tr>\n",
       "    <tr>\n",
       "      <th>3</th>\n",
       "      <td>8</td>\n",
       "      <td>B006K2ZZ7K</td>\n",
       "      <td>A3JRGQVEQN31IQ</td>\n",
       "      <td>Pamela G. Williams</td>\n",
       "      <td>0</td>\n",
       "      <td>0</td>\n",
       "      <td>5</td>\n",
       "      <td>1336003200</td>\n",
       "      <td>Wonderful, tasty taffy</td>\n",
       "      <td>This taffy is so good.  It is very soft and ch...</td>\n",
       "      <td>1</td>\n",
       "    </tr>\n",
       "    <tr>\n",
       "      <th>4</th>\n",
       "      <td>9</td>\n",
       "      <td>B000E7L2R4</td>\n",
       "      <td>A1MZYO9TZK0BBI</td>\n",
       "      <td>R. James</td>\n",
       "      <td>1</td>\n",
       "      <td>1</td>\n",
       "      <td>5</td>\n",
       "      <td>1322006400</td>\n",
       "      <td>Yay Barley</td>\n",
       "      <td>Right now I'm mostly just sprouting this so my...</td>\n",
       "      <td>1</td>\n",
       "    </tr>\n",
       "  </tbody>\n",
       "</table>\n",
       "</div>"
      ],
      "text/plain": [
       "   Id   ProductId          UserId                    ProfileName  \\\n",
       "0   1  B001E4KFG0  A3SGXH7AUHU8GW                     delmartian   \n",
       "1   5  B006K2ZZ7K  A1UQRSCLF8GW1T  Michael D. Bigham \"M. Wassir\"   \n",
       "2   7  B006K2ZZ7K  A1SP2KVKFXXRU1              David C. Sullivan   \n",
       "3   8  B006K2ZZ7K  A3JRGQVEQN31IQ             Pamela G. Williams   \n",
       "4   9  B000E7L2R4  A1MZYO9TZK0BBI                       R. James   \n",
       "\n",
       "   HelpfulnessNumerator  HelpfulnessDenominator  Score        Time  \\\n",
       "0                     1                       1      5  1303862400   \n",
       "1                     0                       0      5  1350777600   \n",
       "2                     0                       0      5  1340150400   \n",
       "3                     0                       0      5  1336003200   \n",
       "4                     1                       1      5  1322006400   \n",
       "\n",
       "                                         Summary  \\\n",
       "0                          Good Quality Dog Food   \n",
       "1                                    Great taffy   \n",
       "2  Great!  Just as good as the expensive brands!   \n",
       "3                         Wonderful, tasty taffy   \n",
       "4                                     Yay Barley   \n",
       "\n",
       "                                              Review  Rating  \n",
       "0  I have bought several of the Vitality canned d...       1  \n",
       "1  Great taffy at a great price.  There was a wid...       1  \n",
       "2  This saltwater taffy had great flavors and was...       1  \n",
       "3  This taffy is so good.  It is very soft and ch...       1  \n",
       "4  Right now I'm mostly just sprouting this so my...       1  "
      ]
     },
     "execution_count": 77,
     "metadata": {},
     "output_type": "execute_result"
    }
   ],
   "source": [
    "dataset.head()"
   ]
  },
  {
   "cell_type": "code",
   "execution_count": 78,
   "id": "140460a3",
   "metadata": {},
   "outputs": [
    {
     "data": {
      "text/plain": [
       "Id                        0\n",
       "ProductId                 0\n",
       "UserId                    0\n",
       "ProfileName               0\n",
       "HelpfulnessNumerator      0\n",
       "HelpfulnessDenominator    0\n",
       "Score                     0\n",
       "Time                      0\n",
       "Summary                   2\n",
       "Review                    0\n",
       "Rating                    0\n",
       "dtype: int64"
      ]
     },
     "execution_count": 78,
     "metadata": {},
     "output_type": "execute_result"
    }
   ],
   "source": [
    "dataset.isnull().sum()"
   ]
  },
  {
   "cell_type": "code",
   "execution_count": 79,
   "id": "6b72d6f2",
   "metadata": {},
   "outputs": [],
   "source": [
    "# from sklearn.utils import shuffle\n",
    "# dataset = shuffle(dataset)\n",
    "# dataset.head()"
   ]
  },
  {
   "cell_type": "code",
   "execution_count": 80,
   "id": "18554f5d",
   "metadata": {},
   "outputs": [
    {
     "data": {
      "text/plain": [
       "1    5000\n",
       "0    5000\n",
       "Name: Rating, dtype: int64"
      ]
     },
     "execution_count": 80,
     "metadata": {},
     "output_type": "execute_result"
    }
   ],
   "source": [
    "dataset['Rating'].value_counts()"
   ]
  },
  {
   "cell_type": "markdown",
   "id": "c232f3a4",
   "metadata": {},
   "source": [
    "Basic NLTK"
   ]
  },
  {
   "cell_type": "code",
   "execution_count": 81,
   "id": "7ff0ade0",
   "metadata": {},
   "outputs": [
    {
     "data": {
      "text/plain": [
       "'This offer is a great price and a great taste, thanks Amazon for selling this product.<br /><br />Staral'"
      ]
     },
     "execution_count": 81,
     "metadata": {},
     "output_type": "execute_result"
    }
   ],
   "source": [
    "#3,5,15\n",
    "example = dataset['Review'][22]\n",
    "example"
   ]
  },
  {
   "cell_type": "code",
   "execution_count": 82,
   "id": "1b356ee3",
   "metadata": {},
   "outputs": [
    {
     "name": "stdout",
     "output_type": "stream",
     "text": [
      "This offer is a great price and a great taste thanks Amazon for selling this productbr br Staral\n"
     ]
    }
   ],
   "source": [
    "# removing special char and numbers\n",
    "import re\n",
    "cleaned_text = re.sub('[^A-Za-z ]+', '', example)\n",
    "print(cleaned_text)"
   ]
  },
  {
   "cell_type": "code",
   "execution_count": 83,
   "id": "c1e78cfd",
   "metadata": {},
   "outputs": [
    {
     "name": "stdout",
     "output_type": "stream",
     "text": [
      "['This', 'offer', 'is', 'a', 'great', 'price', 'and', 'a', 'great', 'taste', 'thanks', 'Amazon', 'for', 'selling', 'this', 'productbr', 'br', 'Staral']\n"
     ]
    }
   ],
   "source": [
    "# tokenizing the text\n",
    "import nltk\n",
    "from nltk import word_tokenize\n",
    "tokenized = word_tokenize(cleaned_text)\n",
    "print(tokenized)"
   ]
  },
  {
   "cell_type": "code",
   "execution_count": 84,
   "id": "e6e90d26",
   "metadata": {},
   "outputs": [
    {
     "name": "stdout",
     "output_type": "stream",
     "text": [
      "{'weren', 'as', \"don't\", 'under', 'am', 'm', 'further', 'd', 're', 'where', \"didn't\", 'here', 'didn', 'himself', 'wasn', 'above', 'be', 'its', 'me', 'out', 'our', 'very', 'mightn', 'up', \"doesn't\", 'mustn', 'to', 'your', 'herself', 'then', 'most', 'too', 'doing', 'this', 'both', 'was', \"won't\", 'nor', 'my', 'all', 'how', 'through', 'does', 'him', 'who', 'needn', 'only', 'than', \"you're\", 'her', 'just', 'doesn', 'once', 'there', 'ourselves', 'they', \"weren't\", 'been', 'we', 'after', 'what', \"mightn't\", 'itself', 'have', 'she', 'shan', 'i', 'other', 'themselves', \"she's\", 'are', 'some', 'below', 've', 'from', 'few', 'an', 'o', \"you'd\", \"shan't\", 'couldn', 'you', 'about', 'because', 'off', 'for', 'the', 'he', 'more', 'so', 'hadn', 'y', 'each', 'same', 'over', 'on', 'by', \"you'll\", 'no', 't', 'at', 'again', 'll', 'did', 'or', 'which', 'will', \"couldn't\", 'has', 'during', 'those', 'being', 'any', 'such', 'now', 'do', 'yourselves', \"isn't\", 'having', 'why', \"should've\", 'it', 'own', 'ain', 'yourself', 'of', \"it's\", \"mustn't\", 'and', 'if', 'had', 'their', \"shouldn't\", \"aren't\", 'were', 'shouldn', \"hasn't\", \"wouldn't\", 'before', 'against', 'them', 'with', 'won', 'these', 'but', 'is', \"haven't\", 'ma', 'into', 'that', 'can', 'down', 'whom', 'ours', 'when', 'while', \"needn't\", \"you've\", 'myself', 'yours', \"hadn't\", 'a', 'his', 'don', \"wasn't\", 'not', 'should', 'until', 'haven', 'wouldn', 'between', 's', 'hers', 'aren', 'theirs', 'in', \"that'll\", 'isn', 'hasn'}\n"
     ]
    }
   ],
   "source": [
    "# using stopwords module from corpus library\n",
    "from nltk.corpus import stopwords\n",
    "stop_words = set(stopwords.words('english'))\n",
    "print(stop_words)"
   ]
  },
  {
   "cell_type": "code",
   "execution_count": 85,
   "id": "d538ac6a",
   "metadata": {},
   "outputs": [
    {
     "name": "stdout",
     "output_type": "stream",
     "text": [
      "['This', 'offer', 'great', 'price', 'great', 'taste', 'thanks', 'Amazon', 'selling', 'productbr', 'br', 'Staral']\n"
     ]
    }
   ],
   "source": [
    "# Removing stop words from text\n",
    "tokens =[]\n",
    "for word in tokenized:\n",
    "    if word not in stop_words:\n",
    "        tokens.append(word)\n",
    "print(tokens)"
   ]
  },
  {
   "cell_type": "code",
   "execution_count": 86,
   "id": "c23ad594",
   "metadata": {},
   "outputs": [
    {
     "name": "stdout",
     "output_type": "stream",
     "text": [
      "['This', 'offer', 'great', 'price', 'great', 'taste', 'thanks', 'Amazon', 'selling', 'productbr', 'br', 'Staral']\n"
     ]
    }
   ],
   "source": [
    "# Lemmatizing\n",
    "from nltk.stem import WordNetLemmatizer\n",
    "lemmatizer = WordNetLemmatizer()\n",
    "lemmatized_tokens = [lemmatizer.lemmatize(token) for token in tokens]\n",
    "print(lemmatized_tokens)"
   ]
  },
  {
   "cell_type": "code",
   "execution_count": 87,
   "id": "c39e00a3",
   "metadata": {},
   "outputs": [
    {
     "name": "stdout",
     "output_type": "stream",
     "text": [
      "This offer great price great taste thanks Amazon selling productbr br Staral\n"
     ]
    }
   ],
   "source": [
    "final_text = \" \".join(lemmatized_tokens)\n",
    "print(final_text)"
   ]
  },
  {
   "cell_type": "markdown",
   "id": "d92c4dd3",
   "metadata": {},
   "source": [
    "Applying all the above to the entire dataset"
   ]
  },
  {
   "cell_type": "code",
   "execution_count": 88,
   "id": "f9ea49f8",
   "metadata": {},
   "outputs": [],
   "source": [
    "# for i in range(0,len(dataset.index)):\n",
    "#     raw_text = dataset.Review[i]\n",
    "#     cleaned_text = re.sub('[^A-Za-z ]+', '', raw_text)\n",
    "#     tokenized = word_tokenize(cleaned_text)\n",
    "#     tokens =[]\n",
    "#     for word in tokenized:\n",
    "#         if word not in stop_words:\n",
    "#             tokens.append(word)\n",
    "#     lemmatized_tokens = [lemmatizer.lemmatize(token) for token in tokens]\n",
    "#     final_text = \" \".join(lemmatized_tokens)\n",
    "#     print(final_text)\n",
    "#     dataset['Review'] = dataset['Review'].replace(dataset.Review[i],final_text)\n",
    "    "
   ]
  },
  {
   "cell_type": "code",
   "execution_count": 89,
   "id": "d970ff53",
   "metadata": {},
   "outputs": [],
   "source": [
    "# utility function for preprocessing the text\n",
    "import spacy\n",
    "# load the english language model and create nlp object from it\n",
    "nlp = spacy.load(\"en_core_web_sm\")\n",
    "\n",
    "def preprocess(text):\n",
    "    doc = nlp(text)\n",
    "    filtered_tokens = []\n",
    "    for token in doc:\n",
    "        if token.is_stop or token.is_punct:\n",
    "            continue\n",
    "        filtered_tokens.append(token.lemma_)\n",
    "        \n",
    "    return \" \".join(filtered_tokens)"
   ]
  },
  {
   "cell_type": "code",
   "execution_count": 90,
   "id": "9e96c966",
   "metadata": {},
   "outputs": [],
   "source": [
    "dataset[\"Review\"] = dataset[\"Review\"].apply(preprocess)"
   ]
  },
  {
   "cell_type": "code",
   "execution_count": 91,
   "id": "34c738a3",
   "metadata": {},
   "outputs": [
    {
     "data": {
      "text/html": [
       "<div>\n",
       "<style scoped>\n",
       "    .dataframe tbody tr th:only-of-type {\n",
       "        vertical-align: middle;\n",
       "    }\n",
       "\n",
       "    .dataframe tbody tr th {\n",
       "        vertical-align: top;\n",
       "    }\n",
       "\n",
       "    .dataframe thead th {\n",
       "        text-align: right;\n",
       "    }\n",
       "</style>\n",
       "<table border=\"1\" class=\"dataframe\">\n",
       "  <thead>\n",
       "    <tr style=\"text-align: right;\">\n",
       "      <th></th>\n",
       "      <th>Id</th>\n",
       "      <th>ProductId</th>\n",
       "      <th>UserId</th>\n",
       "      <th>ProfileName</th>\n",
       "      <th>HelpfulnessNumerator</th>\n",
       "      <th>HelpfulnessDenominator</th>\n",
       "      <th>Score</th>\n",
       "      <th>Time</th>\n",
       "      <th>Summary</th>\n",
       "      <th>Review</th>\n",
       "      <th>Rating</th>\n",
       "    </tr>\n",
       "  </thead>\n",
       "  <tbody>\n",
       "    <tr>\n",
       "      <th>0</th>\n",
       "      <td>1</td>\n",
       "      <td>B001E4KFG0</td>\n",
       "      <td>A3SGXH7AUHU8GW</td>\n",
       "      <td>delmartian</td>\n",
       "      <td>1</td>\n",
       "      <td>1</td>\n",
       "      <td>5</td>\n",
       "      <td>1303862400</td>\n",
       "      <td>Good Quality Dog Food</td>\n",
       "      <td>buy Vitality can dog food product find good qu...</td>\n",
       "      <td>1</td>\n",
       "    </tr>\n",
       "    <tr>\n",
       "      <th>1</th>\n",
       "      <td>5</td>\n",
       "      <td>B006K2ZZ7K</td>\n",
       "      <td>A1UQRSCLF8GW1T</td>\n",
       "      <td>Michael D. Bigham \"M. Wassir\"</td>\n",
       "      <td>0</td>\n",
       "      <td>0</td>\n",
       "      <td>5</td>\n",
       "      <td>1350777600</td>\n",
       "      <td>Great taffy</td>\n",
       "      <td>great taffy great price   wide assortment yumm...</td>\n",
       "      <td>1</td>\n",
       "    </tr>\n",
       "    <tr>\n",
       "      <th>2</th>\n",
       "      <td>7</td>\n",
       "      <td>B006K2ZZ7K</td>\n",
       "      <td>A1SP2KVKFXXRU1</td>\n",
       "      <td>David C. Sullivan</td>\n",
       "      <td>0</td>\n",
       "      <td>0</td>\n",
       "      <td>5</td>\n",
       "      <td>1340150400</td>\n",
       "      <td>Great!  Just as good as the expensive brands!</td>\n",
       "      <td>saltwater taffy great flavor soft chewy   cand...</td>\n",
       "      <td>1</td>\n",
       "    </tr>\n",
       "    <tr>\n",
       "      <th>3</th>\n",
       "      <td>8</td>\n",
       "      <td>B006K2ZZ7K</td>\n",
       "      <td>A3JRGQVEQN31IQ</td>\n",
       "      <td>Pamela G. Williams</td>\n",
       "      <td>0</td>\n",
       "      <td>0</td>\n",
       "      <td>5</td>\n",
       "      <td>1336003200</td>\n",
       "      <td>Wonderful, tasty taffy</td>\n",
       "      <td>taffy good   soft chewy   flavor amazing   def...</td>\n",
       "      <td>1</td>\n",
       "    </tr>\n",
       "    <tr>\n",
       "      <th>4</th>\n",
       "      <td>9</td>\n",
       "      <td>B000E7L2R4</td>\n",
       "      <td>A1MZYO9TZK0BBI</td>\n",
       "      <td>R. James</td>\n",
       "      <td>1</td>\n",
       "      <td>1</td>\n",
       "      <td>5</td>\n",
       "      <td>1322006400</td>\n",
       "      <td>Yay Barley</td>\n",
       "      <td>right sprout cat eat grass love rotate Wheatgr...</td>\n",
       "      <td>1</td>\n",
       "    </tr>\n",
       "  </tbody>\n",
       "</table>\n",
       "</div>"
      ],
      "text/plain": [
       "   Id   ProductId          UserId                    ProfileName  \\\n",
       "0   1  B001E4KFG0  A3SGXH7AUHU8GW                     delmartian   \n",
       "1   5  B006K2ZZ7K  A1UQRSCLF8GW1T  Michael D. Bigham \"M. Wassir\"   \n",
       "2   7  B006K2ZZ7K  A1SP2KVKFXXRU1              David C. Sullivan   \n",
       "3   8  B006K2ZZ7K  A3JRGQVEQN31IQ             Pamela G. Williams   \n",
       "4   9  B000E7L2R4  A1MZYO9TZK0BBI                       R. James   \n",
       "\n",
       "   HelpfulnessNumerator  HelpfulnessDenominator  Score        Time  \\\n",
       "0                     1                       1      5  1303862400   \n",
       "1                     0                       0      5  1350777600   \n",
       "2                     0                       0      5  1340150400   \n",
       "3                     0                       0      5  1336003200   \n",
       "4                     1                       1      5  1322006400   \n",
       "\n",
       "                                         Summary  \\\n",
       "0                          Good Quality Dog Food   \n",
       "1                                    Great taffy   \n",
       "2  Great!  Just as good as the expensive brands!   \n",
       "3                         Wonderful, tasty taffy   \n",
       "4                                     Yay Barley   \n",
       "\n",
       "                                              Review  Rating  \n",
       "0  buy Vitality can dog food product find good qu...       1  \n",
       "1  great taffy great price   wide assortment yumm...       1  \n",
       "2  saltwater taffy great flavor soft chewy   cand...       1  \n",
       "3  taffy good   soft chewy   flavor amazing   def...       1  \n",
       "4  right sprout cat eat grass love rotate Wheatgr...       1  "
      ]
     },
     "execution_count": 91,
     "metadata": {},
     "output_type": "execute_result"
    }
   ],
   "source": [
    "dataset.head()"
   ]
  },
  {
   "cell_type": "code",
   "execution_count": 93,
   "id": "06db79da",
   "metadata": {},
   "outputs": [
    {
     "data": {
      "text/plain": [
       "'taffy good   soft chewy   flavor amazing   definitely recommend buy   satisfying'"
      ]
     },
     "execution_count": 93,
     "metadata": {},
     "output_type": "execute_result"
    }
   ],
   "source": [
    "dataset[\"Review\"][3]"
   ]
  },
  {
   "cell_type": "markdown",
   "id": "177c0dbf",
   "metadata": {},
   "source": [
    "# Training"
   ]
  },
  {
   "cell_type": "code",
   "execution_count": 94,
   "id": "d4aaf95a",
   "metadata": {},
   "outputs": [],
   "source": [
    "from sklearn.model_selection import train_test_split\n",
    "x_train, x_test, y_train, y_test = train_test_split(dataset['Review'],dataset['Rating'],test_size=0.2)"
   ]
  },
  {
   "cell_type": "code",
   "execution_count": 95,
   "id": "658d3313",
   "metadata": {},
   "outputs": [
    {
     "data": {
      "text/plain": [
       "0    4009\n",
       "1    3991\n",
       "Name: Rating, dtype: int64"
      ]
     },
     "execution_count": 95,
     "metadata": {},
     "output_type": "execute_result"
    }
   ],
   "source": [
    "y_train.value_counts()"
   ]
  },
  {
   "cell_type": "code",
   "execution_count": 96,
   "id": "1cadc43a",
   "metadata": {},
   "outputs": [
    {
     "data": {
      "text/plain": [
       "1    1009\n",
       "0     991\n",
       "Name: Rating, dtype: int64"
      ]
     },
     "execution_count": 96,
     "metadata": {},
     "output_type": "execute_result"
    }
   ],
   "source": [
    "y_test.value_counts()"
   ]
  },
  {
   "cell_type": "code",
   "execution_count": 97,
   "id": "856a84e9",
   "metadata": {},
   "outputs": [],
   "source": [
    "from sklearn.feature_extraction.text import TfidfVectorizer\n",
    "vect = TfidfVectorizer().fit(x_train)"
   ]
  },
  {
   "cell_type": "code",
   "execution_count": 98,
   "id": "6c6cd09c",
   "metadata": {},
   "outputs": [
    {
     "data": {
      "text/plain": [
       "14787"
      ]
     },
     "execution_count": 98,
     "metadata": {},
     "output_type": "execute_result"
    }
   ],
   "source": [
    "len(vect.get_feature_names())"
   ]
  },
  {
   "cell_type": "code",
   "execution_count": 99,
   "id": "b95036b3",
   "metadata": {},
   "outputs": [],
   "source": [
    "x_train_vectorized = vect.transform(x_train)"
   ]
  },
  {
   "cell_type": "code",
   "execution_count": 100,
   "id": "4378019a",
   "metadata": {},
   "outputs": [
    {
     "data": {
      "text/plain": [
       "LogisticRegression(multi_class='ovr', solver='liblinear')"
      ]
     },
     "execution_count": 100,
     "metadata": {},
     "output_type": "execute_result"
    }
   ],
   "source": [
    "from sklearn.linear_model import LogisticRegression\n",
    "lr = LogisticRegression(solver=\"liblinear\",multi_class=\"ovr\")\n",
    "lr.fit(x_train_vectorized,y_train)"
   ]
  },
  {
   "cell_type": "code",
   "execution_count": 101,
   "id": "23821b25",
   "metadata": {},
   "outputs": [
    {
     "data": {
      "text/plain": [
       "KNeighborsClassifier()"
      ]
     },
     "execution_count": 101,
     "metadata": {},
     "output_type": "execute_result"
    }
   ],
   "source": [
    "from sklearn.neighbors import KNeighborsClassifier\n",
    "knn = KNeighborsClassifier()\n",
    "knn.fit(x_train_vectorized, y_train)"
   ]
  },
  {
   "cell_type": "code",
   "execution_count": 102,
   "id": "729b667f",
   "metadata": {},
   "outputs": [
    {
     "data": {
      "text/plain": [
       "GaussianNB()"
      ]
     },
     "execution_count": 102,
     "metadata": {},
     "output_type": "execute_result"
    }
   ],
   "source": [
    "from sklearn.naive_bayes import GaussianNB\n",
    "nb = GaussianNB()\n",
    "nb.fit(x_train_vectorized.toarray(), y_train)"
   ]
  },
  {
   "cell_type": "code",
   "execution_count": 103,
   "id": "4af75eff",
   "metadata": {},
   "outputs": [
    {
     "data": {
      "text/plain": [
       "SVC()"
      ]
     },
     "execution_count": 103,
     "metadata": {},
     "output_type": "execute_result"
    }
   ],
   "source": [
    "from sklearn.svm import SVC\n",
    "sv = SVC()\n",
    "sv.fit(x_train_vectorized, y_train)"
   ]
  },
  {
   "cell_type": "code",
   "execution_count": 104,
   "id": "49702f88",
   "metadata": {},
   "outputs": [
    {
     "data": {
      "text/plain": [
       "DecisionTreeClassifier()"
      ]
     },
     "execution_count": 104,
     "metadata": {},
     "output_type": "execute_result"
    }
   ],
   "source": [
    "from sklearn.tree import DecisionTreeClassifier\n",
    "dt = DecisionTreeClassifier()\n",
    "dt.fit(x_train_vectorized, y_train)"
   ]
  },
  {
   "cell_type": "code",
   "execution_count": 105,
   "id": "23772464",
   "metadata": {},
   "outputs": [
    {
     "data": {
      "text/plain": [
       "RandomForestClassifier(criterion='entropy')"
      ]
     },
     "execution_count": 105,
     "metadata": {},
     "output_type": "execute_result"
    }
   ],
   "source": [
    "from sklearn.ensemble import RandomForestClassifier\n",
    "rf = RandomForestClassifier(criterion = \"entropy\")\n",
    "rf.fit(x_train_vectorized, y_train)"
   ]
  },
  {
   "cell_type": "markdown",
   "id": "9f6fa8c0",
   "metadata": {},
   "source": [
    "# Making predictions"
   ]
  },
  {
   "cell_type": "code",
   "execution_count": 106,
   "id": "af099995",
   "metadata": {},
   "outputs": [],
   "source": [
    "x_test_vectorized = vect.transform(x_test)"
   ]
  },
  {
   "cell_type": "code",
   "execution_count": 107,
   "id": "ab49f2d7",
   "metadata": {},
   "outputs": [],
   "source": [
    "lr_pred = lr.predict(x_test_vectorized)\n",
    "knn_pred = knn.predict(x_test_vectorized)\n",
    "nb_pred = nb.predict(x_test_vectorized.toarray())\n",
    "sv_pred = sv.predict(x_test_vectorized)\n",
    "dt_pred = dt.predict(x_test_vectorized)\n",
    "rf_pred = rf.predict(x_test_vectorized)"
   ]
  },
  {
   "cell_type": "markdown",
   "id": "937a671e",
   "metadata": {},
   "source": [
    "# Model Evaluation"
   ]
  },
  {
   "cell_type": "code",
   "execution_count": 108,
   "id": "2c134e96",
   "metadata": {},
   "outputs": [],
   "source": [
    "from sklearn.metrics import accuracy_score"
   ]
  },
  {
   "cell_type": "code",
   "execution_count": 109,
   "id": "67f4e90f",
   "metadata": {},
   "outputs": [
    {
     "name": "stdout",
     "output_type": "stream",
     "text": [
      "Train Accuracy of Logistic Regression 90.8875\n",
      "Accuracy score of Logistic Regression 85.65\n"
     ]
    }
   ],
   "source": [
    "# train score and test score of Logistic Regression\n",
    "print(\"Train Accuracy of Logistic Regression\", lr.score(x_train_vectorized, y_train)*100)\n",
    "print(\"Accuracy score of Logistic Regression\",accuracy_score(y_test, lr_pred)*100)"
   ]
  },
  {
   "cell_type": "code",
   "execution_count": 110,
   "id": "2c1e97fe",
   "metadata": {},
   "outputs": [
    {
     "name": "stdout",
     "output_type": "stream",
     "text": [
      "Train Accuracy of KNN 81.4625\n",
      "Accuracy score of KNN 68.0\n"
     ]
    }
   ],
   "source": [
    "# train score and test score of KNN\n",
    "print(\"Train Accuracy of KNN\", knn.score(x_train_vectorized, y_train)*100)\n",
    "print(\"Accuracy score of KNN\",accuracy_score(y_test, knn_pred)*100)"
   ]
  },
  {
   "cell_type": "code",
   "execution_count": 111,
   "id": "e269f86f",
   "metadata": {},
   "outputs": [
    {
     "name": "stdout",
     "output_type": "stream",
     "text": [
      "Train Accuracy of Naive Bayes 86.6125\n",
      "Accuracy score of Naive Bayes 63.5\n"
     ]
    }
   ],
   "source": [
    "# train score and test score of Naive-Bayes\n",
    "print(\"Train Accuracy of Naive Bayes\", nb.score(x_train_vectorized.toarray(), y_train)*100)\n",
    "print(\"Accuracy score of Naive Bayes\",accuracy_score(y_test, nb_pred)*100)"
   ]
  },
  {
   "cell_type": "code",
   "execution_count": 112,
   "id": "472a890e",
   "metadata": {},
   "outputs": [
    {
     "name": "stdout",
     "output_type": "stream",
     "text": [
      "Train Accuracy of SVM 98.88749999999999\n",
      "Accuracy score of SVM 86.4\n"
     ]
    }
   ],
   "source": [
    "# train score and test score of SVM\n",
    "print(\"Train Accuracy of SVM\", sv.score(x_train_vectorized, y_train)*100)\n",
    "print(\"Accuracy score of SVM\",accuracy_score(y_test, sv_pred)*100)"
   ]
  },
  {
   "cell_type": "code",
   "execution_count": 113,
   "id": "660df21c",
   "metadata": {},
   "outputs": [
    {
     "name": "stdout",
     "output_type": "stream",
     "text": [
      "Train Accuracy of Decision Tree 100.0\n",
      "Accuracy score of Decision Tree 71.2\n"
     ]
    }
   ],
   "source": [
    "# train score and test score of Decision Tree\n",
    "print(\"Train Accuracy of Decision Tree\", dt.score(x_train_vectorized, y_train)*100)\n",
    "print(\"Accuracy score of Decision Tree\",accuracy_score(y_test, dt_pred)*100)"
   ]
  },
  {
   "cell_type": "code",
   "execution_count": 114,
   "id": "3364503b",
   "metadata": {},
   "outputs": [
    {
     "name": "stdout",
     "output_type": "stream",
     "text": [
      "Train Accuracy of Random Forest 100.0\n",
      "Accuracy score of Random Forest 83.55\n"
     ]
    }
   ],
   "source": [
    "# train score and test score of Random Forest\n",
    "print(\"Train Accuracy of Random Forest\", rf.score(x_train_vectorized, y_train)*100)\n",
    "print(\"Accuracy score of Random Forest\",accuracy_score(y_test, rf_pred)*100)"
   ]
  },
  {
   "cell_type": "markdown",
   "id": "a2aa5492",
   "metadata": {},
   "source": [
    "# Extra"
   ]
  },
  {
   "cell_type": "code",
   "execution_count": 115,
   "id": "bec00431",
   "metadata": {},
   "outputs": [],
   "source": [
    "predictions = lr.predict(vect.transform(x_test))"
   ]
  },
  {
   "cell_type": "code",
   "execution_count": 116,
   "id": "88b2316d",
   "metadata": {},
   "outputs": [
    {
     "name": "stdout",
     "output_type": "stream",
     "text": [
      "AUC 0.8565738824844813\n"
     ]
    }
   ],
   "source": [
    "from sklearn.metrics import roc_auc_score\n",
    "print(\"AUC\", roc_auc_score(y_test, predictions))"
   ]
  },
  {
   "cell_type": "code",
   "execution_count": 117,
   "id": "fa3e55e7",
   "metadata": {},
   "outputs": [],
   "source": [
    "feature_names = np.array(vect.get_feature_names())\n",
    "sorted_coef_index = lr.coef_[0].argsort()"
   ]
  },
  {
   "cell_type": "code",
   "execution_count": 118,
   "id": "143e7edb",
   "metadata": {},
   "outputs": [
    {
     "name": "stdout",
     "output_type": "stream",
     "text": [
      "smallest coefficient ['disappointed' 'bad' 'weak' 'toy' 'throw' 'return' 'disappointing'\n",
      " 'waste' 'terrible' 'taste']\n"
     ]
    }
   ],
   "source": [
    "print(\"smallest coefficient\",  feature_names[sorted_coef_index[:10]])"
   ]
  },
  {
   "cell_type": "code",
   "execution_count": 119,
   "id": "83e51823",
   "metadata": {},
   "outputs": [
    {
     "name": "stdout",
     "output_type": "stream",
     "text": [
      "Largest coefficient ['enjoy' 'tasty' 'snack' 'excellent' 'favorite' 'perfect' 'nice'\n",
      " 'delicious' 'love' 'great']\n"
     ]
    }
   ],
   "source": [
    "print(\"Largest coefficient\",  feature_names[sorted_coef_index[-11:-1]])"
   ]
  },
  {
   "cell_type": "markdown",
   "id": "f3f986f9",
   "metadata": {},
   "source": [
    "# Prediction"
   ]
  },
  {
   "cell_type": "code",
   "execution_count": 120,
   "id": "6601bb6d",
   "metadata": {},
   "outputs": [
    {
     "name": "stdout",
     "output_type": "stream",
     "text": [
      "[1]\n",
      "Positive Rating\n"
     ]
    }
   ],
   "source": [
    "input_data = (\"The food was tasty, and the service was best\")\n",
    "\n",
    "data = [input_data]\n",
    "std_data = vect.transform(data)\n",
    "\n",
    "prediction = sv.predict(std_data)\n",
    "print(prediction)\n",
    "\n",
    "if (prediction[0] == 0):\n",
    "  print('Negative Rating')\n",
    "else:\n",
    "  print('Positive Rating')"
   ]
  },
  {
   "cell_type": "code",
   "execution_count": 126,
   "id": "0907576a",
   "metadata": {},
   "outputs": [
    {
     "name": "stdout",
     "output_type": "stream",
     "text": [
      "[0]\n",
      "Negative Rating\n"
     ]
    }
   ],
   "source": [
    "input_data = (\"hotel service is rediculous\")\n",
    "\n",
    "data = [input_data]\n",
    "std_data = vect.transform(data)\n",
    "\n",
    "prediction = sv.predict(std_data)\n",
    "print(prediction)\n",
    "\n",
    "if (prediction[0] == 0):\n",
    "  print('Negative Rating')\n",
    "else:\n",
    "  print('Positive Rating')"
   ]
  },
  {
   "cell_type": "code",
   "execution_count": null,
   "id": "4dfb96ea",
   "metadata": {},
   "outputs": [],
   "source": []
  }
 ],
 "metadata": {
  "kernelspec": {
   "display_name": "Python 3 (ipykernel)",
   "language": "python",
   "name": "python3"
  },
  "language_info": {
   "codemirror_mode": {
    "name": "ipython",
    "version": 3
   },
   "file_extension": ".py",
   "mimetype": "text/x-python",
   "name": "python",
   "nbconvert_exporter": "python",
   "pygments_lexer": "ipython3",
   "version": "3.9.7"
  }
 },
 "nbformat": 4,
 "nbformat_minor": 5
}
